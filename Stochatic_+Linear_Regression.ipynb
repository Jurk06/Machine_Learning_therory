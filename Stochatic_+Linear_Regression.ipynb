{
  "nbformat": 4,
  "nbformat_minor": 0,
  "metadata": {
    "colab": {
      "name": "Stochatic +Linear Regression.ipynb",
      "provenance": []
    },
    "kernelspec": {
      "name": "python3",
      "display_name": "Python 3"
    }
  },
  "cells": [
    {
      "cell_type": "markdown",
      "metadata": {
        "id": "WyDFKhp8EU5S"
      },
      "source": [
        "# Stochastic Gradient Descent\r\n",
        "\r\n",
        "1 . process of minimizing a function by following the gradients of the cost function\r\n",
        "2. E.g- downhill towards the minimum value."
      ]
    },
    {
      "cell_type": "markdown",
      "metadata": {
        "id": "lxQBuwdxEpIE"
      },
      "source": [
        "# Linear Regression with One Variable\r\n",
        "1. Straight line relationship between the input variables (X) and the single output variable (y).\r\n",
        "2. Output (y) can be calculated from a linear combination of the input variables (X).\r\n",
        "3. The formula \r\n",
        "                   ** y = b0 + b1 * x**\r\n",
        "\r\n",
        "  "
      ]
    },
    {
      "cell_type": "markdown",
      "metadata": {
        "id": "mTZri73AFSBm"
      },
      "source": [
        "# Steps that we need to focus are\r\n",
        "1.  Calculate Mean and Variance\r\n",
        "2.  Calculate Covariance\r\n",
        "                  **covariance = sum((x(i) - mean(x)) * (y(i) - mean(y)))**\r\n",
        "\r\n"
      ]
    },
    {
      "cell_type": "code",
      "metadata": {
        "colab": {
          "base_uri": "https://localhost:8080/"
        },
        "id": "48U8UhyNCYrv",
        "outputId": "fbe2734f-b95e-4be2-a154-7427716936fb"
      },
      "source": [
        "# Standalone simple linear regression example\r\n",
        "from math import sqrt\r\n",
        "\r\n",
        "# Calculate root mean squared error\r\n",
        "def rmse_metric(actual, predicted):\r\n",
        "\tsum_error = 0.0\r\n",
        "\tfor i in range(len(actual)):\r\n",
        "\t\tprediction_error = predicted[i] - actual[i]\r\n",
        "\t\tsum_error += (prediction_error ** 2)\r\n",
        "\tmean_error = sum_error / float(len(actual))\r\n",
        "\treturn sqrt(mean_error)\r\n",
        "\r\n",
        "# Evaluate regression algorithm on training dataset\r\n",
        "def evaluate_algorithm(dataset, algorithm):\r\n",
        "\ttest_set = list()\r\n",
        "\tfor row in dataset:\r\n",
        "\t\trow_copy = list(row)\r\n",
        "\t\trow_copy[-1] = None\r\n",
        "\t\ttest_set.append(row_copy)\r\n",
        "\tpredicted = algorithm(dataset, test_set)\r\n",
        "\tprint(predicted)\r\n",
        "\tactual = [row[-1] for row in dataset]\r\n",
        "\trmse = rmse_metric(actual, predicted)\r\n",
        "\treturn rmse\r\n",
        "\r\n",
        "# Calculate the mean value of a list of numbers\r\n",
        "def mean(values):\r\n",
        "\treturn sum(values) / float(len(values))\r\n",
        "\r\n",
        "# Calculate covariance between x and y\r\n",
        "def covariance(x, mean_x, y, mean_y):\r\n",
        "\tcovar = 0.0\r\n",
        "\tfor i in range(len(x)):\r\n",
        "\t\tcovar += (x[i] - mean_x) * (y[i] - mean_y)\r\n",
        "\treturn covar\r\n",
        "\r\n",
        "# Calculate the variance of a list of numbers\r\n",
        "def variance(values, mean):\r\n",
        "\treturn sum([(x-mean)**2 for x in values])\r\n",
        "\r\n",
        "# Calculate coefficients\r\n",
        "def coefficients(dataset):\r\n",
        "\tx = [row[0] for row in dataset]\r\n",
        "\ty = [row[1] for row in dataset]\r\n",
        "\tx_mean, y_mean = mean(x), mean(y)\r\n",
        "\tb1 = covariance(x, x_mean, y, y_mean) / variance(x, x_mean)\r\n",
        "\tb0 = y_mean - b1 * x_mean\r\n",
        "\treturn [b0, b1]\r\n",
        "\r\n",
        "# Simple linear regression algorithm\r\n",
        "def simple_linear_regression(train, test):\r\n",
        "\tpredictions = list()\r\n",
        "\tb0, b1 = coefficients(train)\r\n",
        "\tfor row in test:\r\n",
        "\t\tyhat = b0 + b1 * row[0]\r\n",
        "\t\tpredictions.append(yhat)\r\n",
        "\treturn predictions\r\n",
        "\r\n",
        "# Test simple linear regression\r\n",
        "dataset = [[1, 1], [2, 3], [4, 3], [3, 2], [5, 5]]\r\n",
        "rmse = evaluate_algorithm(dataset, simple_linear_regression)\r\n",
        "print('RMSE: %.3f' % (rmse))"
      ],
      "execution_count": 1,
      "outputs": [
        {
          "output_type": "stream",
          "text": [
            "[1.1999999999999995, 1.9999999999999996, 3.5999999999999996, 2.8, 4.3999999999999995]\n",
            "RMSE: 0.693\n"
          ],
          "name": "stdout"
        }
      ]
    },
    {
      "cell_type": "code",
      "metadata": {
        "id": "uxrDNa6aF1io"
      },
      "source": [
        ""
      ],
      "execution_count": null,
      "outputs": []
    }
  ]
}