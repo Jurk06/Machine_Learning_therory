{
  "nbformat": 4,
  "nbformat_minor": 0,
  "metadata": {
    "colab": {
      "name": "Supervised & Unsupervised.ipynb",
      "provenance": []
    },
    "kernelspec": {
      "name": "python3",
      "display_name": "Python 3"
    }
  },
  "cells": [
    {
      "cell_type": "markdown",
      "metadata": {
        "id": "_CMj-E3R4r1h"
      },
      "source": [
        "# Supervised Machine Learning\r\n",
        "\r\n",
        "\r\n",
        "1.   where you have input and output variable\r\n",
        "2.   All data is labeled and the algorithms learn to predict the output from the input data.\r\n",
        "2.   Type of Supervised Machine Learning\r\n",
        "    *   Classification:output variable is a category \" Red \" or \"Blue\",        \"Disease\" or \"non-disease\"\r\n",
        "    *   Regression:  output variable is a real valu \"Dollar\", \"Weight\"\r\n",
        "\r\n"
      ]
    },
    {
      "cell_type": "markdown",
      "metadata": {
        "id": "BS9DEaD95gkh"
      },
      "source": [
        "# Examples of Supervised Machine learning\r\n",
        "*    Linear regression for regression problems.\r\n",
        "*    Random forest for classification and regression problems.\r\n",
        "*    Support vector machines for classification problems."
      ]
    },
    {
      "cell_type": "markdown",
      "metadata": {
        "id": "PdnDCHik52-4"
      },
      "source": [
        "# Unsupervised Machine Learning\r\n",
        "*   where you only have input data (X) and no corresponding output variables.\r\n",
        "*   There is no specified output\r\n",
        "*   All data is unlabeled and the algorithms learn to inherent structure from the input data.\r\n",
        "*   Unsupervised learning problems can be further grouped into.\r\n",
        "\r\n",
        "        *. Clustering:-\r\n",
        "        *  Association"
      ]
    },
    {
      "cell_type": "markdown",
      "metadata": {
        "id": "A3Q14ig76uvQ"
      },
      "source": [
        "#  Examples of Unsupervised learning\r\n",
        "*  k-means for clustering problems.\r\n"
      ]
    },
    {
      "cell_type": "markdown",
      "metadata": {
        "id": "54f-zkpk6-OT"
      },
      "source": [
        "# Semi-Supervised Machine Learning\r\n",
        "* Large input data and only some data is labeled\r\n",
        "e.g-a photo archive where only some of the images are labeled, (e.g. dog, cat, person) and the majority are unlabeled"
      ]
    },
    {
      "cell_type": "code",
      "metadata": {
        "id": "pnS0gngR4pvu"
      },
      "source": [
        ""
      ],
      "execution_count": null,
      "outputs": []
    }
  ]
}