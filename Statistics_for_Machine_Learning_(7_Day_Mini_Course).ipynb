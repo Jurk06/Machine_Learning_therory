{
  "nbformat": 4,
  "nbformat_minor": 0,
  "metadata": {
    "colab": {
      "name": "Statistics for Machine Learning (7-Day Mini-Course).ipynb",
      "provenance": []
    },
    "kernelspec": {
      "name": "python3",
      "display_name": "Python 3"
    }
  },
  "cells": [
    {
      "cell_type": "markdown",
      "metadata": {
        "id": "J-q5bvhgkXy2"
      },
      "source": [
        "# Lesson:-1 Statistics for Machine Learning"
      ]
    },
    {
      "cell_type": "markdown",
      "metadata": {
        "id": "XIISa9PWlSEC"
      },
      "source": [
        "# 1. Statistics in Data Preparation\r\n",
        "\r\n",
        "This includes techniques for:\r\n",
        "\r\n",
        "* Outlier detection.\r\n",
        "* Missing value imputation.\r\n",
        "* Data sampling.\r\n",
        "* Data scaling.\r\n",
        "* Variable encoding"
      ]
    },
    {
      "cell_type": "markdown",
      "metadata": {
        "id": "BpwgH-6klog0"
      },
      "source": [
        "# * Outlier Detection\r\n",
        "\r\n",
        "1.  **IQR(inter Qurtile Range)**- he first and the third quartile (Q1, Q3) are calculated. An outlier is then a data point xi that lies outside the interquartile range. That is:\r\n",
        "\r\n",
        "x>Q3+k(IQR) & x<Q1+k(IQR) \r\n",
        "where IQR=Q3-Q1  and k>0\r\n",
        "  where k=1.5\r\n",
        "   the range limits are the typical upper and lower whiskers of a box plot.\r\n",
        "\r\n",
        " 2.  **Z-score** --Z-score is a parametric outlier detection method.\r\n",
        "    *  Gaussian DIstribution of data\r\n",
        "    *  Zi=(x-mu)/sigma\r\n",
        "    *  Zi>|Z-thr| where Z-thr is threshod value\r\n",
        "    *  Z-thr value lies in 2.5, 3.0 and 3.5 "
      ]
    },
    {
      "cell_type": "markdown",
      "metadata": {
        "id": "uPqZY61_npNl"
      },
      "source": [
        "# * Missing value imputation\r\n",
        "\r\n",
        "* **Imputation the missing value with Mean value**\r\n",
        "*  Imputation the missing value with Mode value\r\n",
        "*  Imputation the missing value with Median value\r\n",
        "*  Imputation the missing value with Most Freuent Value\r\n"
      ]
    },
    {
      "cell_type": "markdown",
      "metadata": {
        "id": "9S_lLNPCva9G"
      },
      "source": [
        "# * Data Sampling\r\n",
        "Sampling is an active process that includes\r\n",
        "   *  Gathering observations.\r\n",
        "   *  so as to estimate population Variabes.\r\n",
        "#  How to Sample\r\n",
        "*  process of selecting subsets of examples from a population with \r\n",
        "*  to objectiveize the estimating properties of the population.\r\n",
        "\r\n",
        "\r\n"
      ]
    },
    {
      "cell_type": "markdown",
      "metadata": {
        "id": "uPtyVKKgbdQ1"
      },
      "source": [
        "# Data Scaling \r\n",
        "\r\n",
        "*  Transforming the data into feature which have specific range [0,1].\r\n",
        "*  x'=(x-x_min)/(x_max-x_min)\r\n",
        "    where x is normal value.\r\n",
        "\r\n",
        "* Scaling is used in SVM, KNN, \r\n",
        "# Normalization \r\n",
        "*  Change datasets into Normal Distribution \r\n",
        "# Standardization \r\n",
        "*  Also called as z_score Normalization\r\n",
        "*  Transform data in such a way that mean=0 & std=1\r\n",
        "*  X'=(X-X_mean)/sigma\r\n",
        "*  Used in SVM "
      ]
    },
    {
      "cell_type": "markdown",
      "metadata": {
        "id": "mZWZoQJgfBHz"
      },
      "source": [
        "# Variable encoding.\r\n",
        "*  convert these categorical variables to numbers\r\n",
        "*  model is able to understand and extract valuable information.\r\n",
        "*   unavoidable activity.\r\n",
        "*  helps in better feature engineering\r\n",
        "# Example :-\r\n",
        "*  Categorical variables are usually represented as ‘strings’ or ‘categories’ \r\n",
        "*  Two type of categorical data: \r\n",
        "   *  Ordinal Data: The categories have an inherent order\r\n",
        "   *  Nominal Data: The categories do not have an inherent orde.\r\n"
      ]
    },
    {
      "cell_type": "code",
      "metadata": {
        "id": "S2LVkzICkRTW"
      },
      "source": [
        ""
      ],
      "execution_count": null,
      "outputs": []
    }
  ]
}