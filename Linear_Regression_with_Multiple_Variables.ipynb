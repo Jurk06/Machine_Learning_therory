{
  "nbformat": 4,
  "nbformat_minor": 0,
  "metadata": {
    "colab": {
      "name": "Linear Regression with Multiple Variables.ipynb",
      "provenance": []
    },
    "kernelspec": {
      "name": "python3",
      "display_name": "Python 3"
    }
  },
  "cells": [
    {
      "cell_type": "markdown",
      "metadata": {
        "id": "BBz66dtdIXDC"
      },
      "source": [
        "# Linear Regression with Multiple Variables\r\n",
        "\r\n",
        "1.  where there is only one output\r\n",
        "2.  more than one inputs variables"
      ]
    },
    {
      "cell_type": "code",
      "metadata": {
        "id": "4JhoEVnHIRJE"
      },
      "source": [
        ""
      ],
      "execution_count": null,
      "outputs": []
    }
  ]
}